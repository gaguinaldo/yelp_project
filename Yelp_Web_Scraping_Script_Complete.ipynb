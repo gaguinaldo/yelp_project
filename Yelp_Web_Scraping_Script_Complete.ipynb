{
 "cells": [
  {
   "cell_type": "code",
   "execution_count": null,
   "metadata": {
    "collapsed": true
   },
   "outputs": [],
   "source": []
  },
  {
   "cell_type": "code",
   "execution_count": 2,
   "metadata": {
    "collapsed": false
   },
   "outputs": [],
   "source": [
    "#Standard Imports\n",
    "\n",
    "\n",
    "import requests\n",
    "from bs4 import BeautifulSoup as soup\n",
    "import xlsxwriter\n",
    "\n",
    "#Script to scrape all yelp reviews from one restaurant.\n",
    "\n",
    "\n",
    "#Index for xlsxwriter\n",
    "row = 1\n",
    "i = 0\n",
    "\n",
    "#Index for all of the review-containing pages for one restaurant.\n",
    "page_num = 120\n",
    "\n",
    "#Call xlsxwriter and name the output file.\n",
    "workbook = xlsxwriter.Workbook('cafe_cup_200.xlsx')\n",
    "worksheet = workbook.add_worksheet()\n",
    "\n",
    "#Write in the header for the file\n",
    "worksheet.write('A1','num_stars')\n",
    "worksheet.write('B1', 'review_text')\n",
    "\n",
    "#Loop to scrape all of the reviews off of one single page with a specific url.\n",
    "#Loop also advances the to all subsequent pages of the restaurant.\n",
    "\n",
    "while page_num <= 220:\n",
    "\n",
    "    url = \"https://www.yelp.com/biz/cafe-cup-huntington-beach?start=%s\" % page_num\n",
    "\n",
    "    r = requests.get(url)\n",
    "    page_soup = soup(r.content, \"lxml\")\n",
    "\n",
    "    review_container = page_soup.findAll(\"div\", {\"class\": \"review-content\"})\n",
    "\n",
    "    for review in review_container:\n",
    "        string = str(review.p.text)\n",
    "        stars = float(review.select('img')[0]['alt'].split()[0])\n",
    "        worksheet.write(row, 0, stars)\n",
    "        worksheet.write(row, 1, string)\n",
    "        row += 1\n",
    "        i += 1\n",
    "\n",
    "    #Advance counter in order to scrape the next url for the restaurant    \n",
    "    page_num += 20\n",
    "\n",
    "workbook.close()"
   ]
  },
  {
   "cell_type": "code",
   "execution_count": 3,
   "metadata": {
    "collapsed": false
   },
   "outputs": [
    {
     "data": {
      "text/html": [
       "<div>\n",
       "<table border=\"1\" class=\"dataframe\">\n",
       "  <thead>\n",
       "    <tr style=\"text-align: right;\">\n",
       "      <th></th>\n",
       "      <th>num_stars</th>\n",
       "      <th>review_text</th>\n",
       "    </tr>\n",
       "  </thead>\n",
       "  <tbody>\n",
       "    <tr>\n",
       "      <th>0</th>\n",
       "      <td>5</td>\n",
       "      <td>I've been here a handful of times and they are...</td>\n",
       "    </tr>\n",
       "    <tr>\n",
       "      <th>1</th>\n",
       "      <td>3</td>\n",
       "      <td>BEWARE CASH ONLY!!Great food! Great prices! I ...</td>\n",
       "    </tr>\n",
       "    <tr>\n",
       "      <th>2</th>\n",
       "      <td>5</td>\n",
       "      <td>This place is lovely. Food is great, service i...</td>\n",
       "    </tr>\n",
       "    <tr>\n",
       "      <th>3</th>\n",
       "      <td>4</td>\n",
       "      <td>This is a tiny little family owned cafe and al...</td>\n",
       "    </tr>\n",
       "    <tr>\n",
       "      <th>4</th>\n",
       "      <td>5</td>\n",
       "      <td>I am so happy I found this hidden gem, thanks ...</td>\n",
       "    </tr>\n",
       "  </tbody>\n",
       "</table>\n",
       "</div>"
      ],
      "text/plain": [
       "   num_stars                                        review_text\n",
       "0          5  I've been here a handful of times and they are...\n",
       "1          3  BEWARE CASH ONLY!!Great food! Great prices! I ...\n",
       "2          5  This place is lovely. Food is great, service i...\n",
       "3          4  This is a tiny little family owned cafe and al...\n",
       "4          5  I am so happy I found this hidden gem, thanks ..."
      ]
     },
     "execution_count": 3,
     "metadata": {},
     "output_type": "execute_result"
    }
   ],
   "source": [
    "#View resulting file in Pandas\n",
    "\n",
    "\n",
    "#Import Pandas\n",
    "import pandas as pd\n",
    "\n",
    "#Load the file in Pandas\n",
    "yelp_xlsx = pd.ExcelFile('cafe_cup_200.xlsx')\n",
    "\n",
    "#Select what sheet to parse into Pandas dataframe.\n",
    "yelp_mhc_df = yelp_xlsx.parse('Sheet1')\n",
    "\n",
    "#Display the dataframe.\n",
    "yelp_mhc_df.head()"
   ]
  },
  {
   "cell_type": "code",
   "execution_count": 4,
   "metadata": {
    "collapsed": false
   },
   "outputs": [
    {
     "data": {
      "text/plain": [
       "num_stars      120\n",
       "review_text    120\n",
       "dtype: int64"
      ]
     },
     "execution_count": 4,
     "metadata": {},
     "output_type": "execute_result"
    }
   ],
   "source": [
    "#Display the number of rows in the dataframe.\n",
    "yelp_mhc_df.count()"
   ]
  },
  {
   "cell_type": "code",
   "execution_count": 6,
   "metadata": {
    "collapsed": false
   },
   "outputs": [
    {
     "data": {
      "text/plain": [
       "\"CASH ONLY! Very busy! Really can't figure out what the fuss is all about. Regular coffee tasted like maybe a farmer brothers brand. Nothing to write home about. The ABC omelette I ordered was sent back. There was nothing light and fluffy about it. It was dry. 2nd came back a little better. Why 3 stars well, service, no one fussed when I send it back and it was filled with bacon. The host was on top of things. But, that was it.\""
      ]
     },
     "execution_count": 6,
     "metadata": {},
     "output_type": "execute_result"
    }
   ],
   "source": [
    "yelp_mhc_df['review_text'][100]"
   ]
  },
  {
   "cell_type": "code",
   "execution_count": null,
   "metadata": {
    "collapsed": true
   },
   "outputs": [],
   "source": []
  }
 ],
 "metadata": {
  "anaconda-cloud": {},
  "kernelspec": {
   "display_name": "Python [default]",
   "language": "python",
   "name": "python3"
  },
  "language_info": {
   "codemirror_mode": {
    "name": "ipython",
    "version": 3
   },
   "file_extension": ".py",
   "mimetype": "text/x-python",
   "name": "python",
   "nbconvert_exporter": "python",
   "pygments_lexer": "ipython3",
   "version": "3.5.2"
  }
 },
 "nbformat": 4,
 "nbformat_minor": 2
}
