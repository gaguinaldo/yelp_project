{
 "cells": [
  {
   "cell_type": "code",
   "execution_count": 114,
   "metadata": {
    "collapsed": true
   },
   "outputs": [],
   "source": [
    "#Standard Imports \n",
    "\n",
    "import pandas as pd\n",
    "import numpy as np"
   ]
  },
  {
   "cell_type": "code",
   "execution_count": 54,
   "metadata": {
    "collapsed": false
   },
   "outputs": [],
   "source": [
    "#Load in Excel file into Pandas.\n",
    "\n",
    "#Restaurant studied was the Monkey House Cafe in Huntington Beach, CA.\n",
    "\n",
    "file = 'mhc_yelp_reviews.xlsx'\n",
    "xlsx_file = pd.ExcelFile(file)\n",
    "sheet = 'Sheet1'"
   ]
  },
  {
   "cell_type": "code",
   "execution_count": 115,
   "metadata": {
    "collapsed": false
   },
   "outputs": [
    {
     "data": {
      "text/html": [
       "<div>\n",
       "<table border=\"1\" class=\"dataframe\">\n",
       "  <thead>\n",
       "    <tr style=\"text-align: right;\">\n",
       "      <th></th>\n",
       "      <th>num_stars</th>\n",
       "      <th>review_text</th>\n",
       "    </tr>\n",
       "  </thead>\n",
       "  <tbody>\n",
       "    <tr>\n",
       "      <th>0</th>\n",
       "      <td>5</td>\n",
       "      <td>Came here based on the reviews and had the Mon...</td>\n",
       "    </tr>\n",
       "    <tr>\n",
       "      <th>1</th>\n",
       "      <td>4</td>\n",
       "      <td>I felt it is a good place to hangout with frie...</td>\n",
       "    </tr>\n",
       "    <tr>\n",
       "      <th>2</th>\n",
       "      <td>4</td>\n",
       "      <td>There are a few places I eat at consistently. ...</td>\n",
       "    </tr>\n",
       "    <tr>\n",
       "      <th>3</th>\n",
       "      <td>5</td>\n",
       "      <td>It's a hot Saturday afternoon, we just finishe...</td>\n",
       "    </tr>\n",
       "    <tr>\n",
       "      <th>4</th>\n",
       "      <td>5</td>\n",
       "      <td>I can't believe that I am going to say this, b...</td>\n",
       "    </tr>\n",
       "  </tbody>\n",
       "</table>\n",
       "</div>"
      ],
      "text/plain": [
       "   num_stars                                        review_text\n",
       "0          5  Came here based on the reviews and had the Mon...\n",
       "1          4  I felt it is a good place to hangout with frie...\n",
       "2          4  There are a few places I eat at consistently. ...\n",
       "3          5  It's a hot Saturday afternoon, we just finishe...\n",
       "4          5  I can't believe that I am going to say this, b..."
      ]
     },
     "execution_count": 115,
     "metadata": {},
     "output_type": "execute_result"
    }
   ],
   "source": [
    "#Parse 'Sheet 1' and return the a dataframe.\n",
    "\n",
    "yelp_df = xlsx_file.parse('Sheet1')\n",
    "\n",
    "#Display the head of the dataframe.\n",
    "\n",
    "yelp_df.head()"
   ]
  },
  {
   "cell_type": "code",
   "execution_count": 57,
   "metadata": {
    "collapsed": false
   },
   "outputs": [
    {
     "data": {
      "text/plain": [
       "1      8\n",
       "2     14\n",
       "3     37\n",
       "4    105\n",
       "5    112\n",
       "Name: num_stars, dtype: int64"
      ]
     },
     "execution_count": 57,
     "metadata": {},
     "output_type": "execute_result"
    }
   ],
   "source": [
    "#Population of reviews favors 4- and 5-star reviews.\n",
    "\n",
    "yelp_df.num_stars.value_counts().sort_index()"
   ]
  },
  {
   "cell_type": "code",
   "execution_count": 58,
   "metadata": {
    "collapsed": true
   },
   "outputs": [],
   "source": [
    "#Function that analyzes the stars and returns a new value if the number of stars is above or below three.\n",
    "\n",
    "def above_three(x):\n",
    "    if x > 3:\n",
    "        return 2\n",
    "    elif x:\n",
    "        return 1\n",
    "    else:\n",
    "        return "
   ]
  },
  {
   "cell_type": "code",
   "execution_count": 128,
   "metadata": {
    "collapsed": false
   },
   "outputs": [],
   "source": [
    "#Create column in dataframe where 2 = review is above three and 1 = review is three or below. \n",
    "#Applies the function to analyze data and returns results in a new column within the dataframe.\n",
    "\n",
    "yelp_df['class_num'] = yelp_df['num_stars'].apply(above_three) "
   ]
  },
  {
   "cell_type": "code",
   "execution_count": 129,
   "metadata": {
    "collapsed": false
   },
   "outputs": [
    {
     "data": {
      "text/plain": [
       "1     59\n",
       "2    217\n",
       "Name: class_num, dtype: int64"
      ]
     },
     "execution_count": 129,
     "metadata": {},
     "output_type": "execute_result"
    }
   ],
   "source": [
    "#Population of reviews that are above or below three stars.\n",
    "\n",
    "yelp_df['class_num'].value_counts().sort_index()"
   ]
  },
  {
   "cell_type": "code",
   "execution_count": 132,
   "metadata": {
    "collapsed": false
   },
   "outputs": [
    {
     "data": {
      "text/html": [
       "<div>\n",
       "<table border=\"1\" class=\"dataframe\">\n",
       "  <thead>\n",
       "    <tr style=\"text-align: right;\">\n",
       "      <th></th>\n",
       "      <th>num_stars</th>\n",
       "      <th>review_text</th>\n",
       "      <th>class_num</th>\n",
       "    </tr>\n",
       "  </thead>\n",
       "  <tbody>\n",
       "    <tr>\n",
       "      <th>0</th>\n",
       "      <td>5</td>\n",
       "      <td>Came here based on the reviews and had the Mon...</td>\n",
       "      <td>2</td>\n",
       "    </tr>\n",
       "    <tr>\n",
       "      <th>1</th>\n",
       "      <td>4</td>\n",
       "      <td>I felt it is a good place to hangout with frie...</td>\n",
       "      <td>2</td>\n",
       "    </tr>\n",
       "    <tr>\n",
       "      <th>2</th>\n",
       "      <td>4</td>\n",
       "      <td>There are a few places I eat at consistently. ...</td>\n",
       "      <td>2</td>\n",
       "    </tr>\n",
       "    <tr>\n",
       "      <th>3</th>\n",
       "      <td>5</td>\n",
       "      <td>It's a hot Saturday afternoon, we just finishe...</td>\n",
       "      <td>2</td>\n",
       "    </tr>\n",
       "    <tr>\n",
       "      <th>4</th>\n",
       "      <td>5</td>\n",
       "      <td>I can't believe that I am going to say this, b...</td>\n",
       "      <td>2</td>\n",
       "    </tr>\n",
       "  </tbody>\n",
       "</table>\n",
       "</div>"
      ],
      "text/plain": [
       "   num_stars                                        review_text  class_num\n",
       "0          5  Came here based on the reviews and had the Mon...          2\n",
       "1          4  I felt it is a good place to hangout with frie...          2\n",
       "2          4  There are a few places I eat at consistently. ...          2\n",
       "3          5  It's a hot Saturday afternoon, we just finishe...          2\n",
       "4          5  I can't believe that I am going to say this, b...          2"
      ]
     },
     "execution_count": 132,
     "metadata": {},
     "output_type": "execute_result"
    }
   ],
   "source": [
    "#New dataframe with an analysis of the number of stars.\n",
    "\n",
    "yelp_df.head()"
   ]
  },
  {
   "cell_type": "code",
   "execution_count": 62,
   "metadata": {
    "collapsed": true
   },
   "outputs": [],
   "source": [
    "# import and instantiate CountVectorizer\n",
    "\n",
    "from sklearn.feature_extraction.text import CountVectorizer\n",
    "vect = CountVectorizer()"
   ]
  },
  {
   "cell_type": "code",
   "execution_count": 133,
   "metadata": {
    "collapsed": false
   },
   "outputs": [],
   "source": [
    "# Define X and y\n",
    "\n",
    "X = yelp_df.review_text\n",
    "y = yelp_df.class_num"
   ]
  },
  {
   "cell_type": "code",
   "execution_count": 134,
   "metadata": {
    "collapsed": false
   },
   "outputs": [
    {
     "name": "stdout",
     "output_type": "stream",
     "text": [
      "(276,)\n",
      "(276,)\n"
     ]
    }
   ],
   "source": [
    "#Print shape of each variable.\n",
    "\n",
    "print(X.shape)\n",
    "print(y.shape)"
   ]
  },
  {
   "cell_type": "code",
   "execution_count": 65,
   "metadata": {
    "collapsed": false
   },
   "outputs": [
    {
     "name": "stdout",
     "output_type": "stream",
     "text": [
      "(276, 2921)\n"
     ]
    }
   ],
   "source": [
    "#Convert X into a document-term matrix and display shape of the corresponding maxtrix.\n",
    "\n",
    "X_dtm = vect.fit_transform(X)\n",
    "print(X_dtm.shape)"
   ]
  },
  {
   "cell_type": "code",
   "execution_count": 101,
   "metadata": {
    "collapsed": false
   },
   "outputs": [],
   "source": [
    "# Import and instantiate MultinomialNB model\n",
    "\n",
    "from sklearn.naive_bayes import MultinomialNB\n",
    "nb = MultinomialNB()"
   ]
  },
  {
   "cell_type": "code",
   "execution_count": 102,
   "metadata": {
    "collapsed": false
   },
   "outputs": [
    {
     "data": {
      "text/plain": [
       "MultinomialNB(alpha=1.0, class_prior=None, fit_prior=True)"
      ]
     },
     "execution_count": 102,
     "metadata": {},
     "output_type": "execute_result"
    }
   ],
   "source": [
    "#Fit the model using the document term matrix and the corresponding stars.\n",
    "\n",
    "nb.fit(X_dtm, y)"
   ]
  },
  {
   "cell_type": "code",
   "execution_count": 103,
   "metadata": {
    "collapsed": false
   },
   "outputs": [
    {
     "data": {
      "text/plain": [
       "2921"
      ]
     },
     "execution_count": 103,
     "metadata": {},
     "output_type": "execute_result"
    }
   ],
   "source": [
    "#Display all of the token names that is used by the MultinomialNB model.\n",
    "\n",
    "X_tokens = vect.get_feature_names()\n",
    "len(X_tokens)"
   ]
  },
  {
   "cell_type": "code",
   "execution_count": 104,
   "metadata": {
    "collapsed": false
   },
   "outputs": [
    {
     "data": {
      "text/plain": [
       "(2, 2921)"
      ]
     },
     "execution_count": 104,
     "metadata": {},
     "output_type": "execute_result"
    }
   ],
   "source": [
    "#Display shape of the feature count matrix.\n",
    "#Remember that a 1 means that the review was three or lower stars and a 2 means that the review was more than three stars\n",
    "\n",
    "nb.feature_count_.shape"
   ]
  },
  {
   "cell_type": "code",
   "execution_count": 105,
   "metadata": {
    "collapsed": false
   },
   "outputs": [
    {
     "name": "stdout",
     "output_type": "stream",
     "text": [
      "59.0\n",
      "217.0\n"
     ]
    }
   ],
   "source": [
    "#Total number of reviews in class 1 (one-, two-, or three-star revews)\n",
    "#Total number of reviews in Class 2 (four-, or five-star reviews)\n",
    "\n",
    "total_class_1 = nb.class_count_[0]\n",
    "total_class_2 = nb.class_count_[1]\n",
    "print(total_class_1)\n",
    "print(total_class_2)"
   ]
  },
  {
   "cell_type": "code",
   "execution_count": 106,
   "metadata": {
    "collapsed": true
   },
   "outputs": [],
   "source": [
    "#Slice the feature matrix to show the feature count in each class.\n",
    "\n",
    "class_1_features = nb.feature_count_[0, :]\n",
    "class_2_features = nb.feature_count_[1, :]"
   ]
  },
  {
   "cell_type": "code",
   "execution_count": 137,
   "metadata": {
    "collapsed": false
   },
   "outputs": [],
   "source": [
    "#Create dataframe with the distribution of tokens in the dataset.\n",
    "\n",
    "token_df = pd.DataFrame({'tokens': X_tokens, 'class_1_total': class_1_features, 'class_2_total': class_2_features}).set_index('tokens')"
   ]
  },
  {
   "cell_type": "code",
   "execution_count": 138,
   "metadata": {
    "collapsed": false
   },
   "outputs": [
    {
     "data": {
      "text/html": [
       "<div>\n",
       "<table border=\"1\" class=\"dataframe\">\n",
       "  <thead>\n",
       "    <tr style=\"text-align: right;\">\n",
       "      <th></th>\n",
       "      <th>class_1_total</th>\n",
       "      <th>class_2_total</th>\n",
       "    </tr>\n",
       "    <tr>\n",
       "      <th>tokens</th>\n",
       "      <th></th>\n",
       "      <th></th>\n",
       "    </tr>\n",
       "  </thead>\n",
       "  <tbody>\n",
       "    <tr>\n",
       "      <th>00</th>\n",
       "      <td>5.0</td>\n",
       "      <td>0.0</td>\n",
       "    </tr>\n",
       "    <tr>\n",
       "      <th>00pm</th>\n",
       "      <td>0.0</td>\n",
       "      <td>3.0</td>\n",
       "    </tr>\n",
       "    <tr>\n",
       "      <th>03</th>\n",
       "      <td>0.0</td>\n",
       "      <td>1.0</td>\n",
       "    </tr>\n",
       "    <tr>\n",
       "      <th>10</th>\n",
       "      <td>2.0</td>\n",
       "      <td>2.0</td>\n",
       "    </tr>\n",
       "    <tr>\n",
       "      <th>100</th>\n",
       "      <td>0.0</td>\n",
       "      <td>3.0</td>\n",
       "    </tr>\n",
       "  </tbody>\n",
       "</table>\n",
       "</div>"
      ],
      "text/plain": [
       "        class_1_total  class_2_total\n",
       "tokens                              \n",
       "00                5.0            0.0\n",
       "00pm              0.0            3.0\n",
       "03                0.0            1.0\n",
       "10                2.0            2.0\n",
       "100               0.0            3.0"
      ]
     },
     "execution_count": 138,
     "metadata": {},
     "output_type": "execute_result"
    }
   ],
   "source": [
    "#Display the head of the new dataframe.\n",
    "\n",
    "token_df.head()"
   ]
  },
  {
   "cell_type": "code",
   "execution_count": 139,
   "metadata": {
    "collapsed": true
   },
   "outputs": [],
   "source": [
    "#Function to add one to each column of the dataframe so that we don't have a divide by zero problem.\n",
    "\n",
    "def add_one(num):\n",
    "    return num + 1"
   ]
  },
  {
   "cell_type": "code",
   "execution_count": 140,
   "metadata": {
    "collapsed": false
   },
   "outputs": [
    {
     "data": {
      "text/html": [
       "<div>\n",
       "<table border=\"1\" class=\"dataframe\">\n",
       "  <thead>\n",
       "    <tr style=\"text-align: right;\">\n",
       "      <th></th>\n",
       "      <th>class_1_total</th>\n",
       "      <th>class_2_total</th>\n",
       "      <th>class_2_percent</th>\n",
       "      <th>class_1_percent</th>\n",
       "    </tr>\n",
       "    <tr>\n",
       "      <th>tokens</th>\n",
       "      <th></th>\n",
       "      <th></th>\n",
       "      <th></th>\n",
       "      <th></th>\n",
       "    </tr>\n",
       "  </thead>\n",
       "  <tbody>\n",
       "    <tr>\n",
       "      <th>00</th>\n",
       "      <td>5.0</td>\n",
       "      <td>0.0</td>\n",
       "      <td>0.004608</td>\n",
       "      <td>0.101695</td>\n",
       "    </tr>\n",
       "    <tr>\n",
       "      <th>00pm</th>\n",
       "      <td>0.0</td>\n",
       "      <td>3.0</td>\n",
       "      <td>0.018433</td>\n",
       "      <td>0.016949</td>\n",
       "    </tr>\n",
       "    <tr>\n",
       "      <th>03</th>\n",
       "      <td>0.0</td>\n",
       "      <td>1.0</td>\n",
       "      <td>0.009217</td>\n",
       "      <td>0.016949</td>\n",
       "    </tr>\n",
       "    <tr>\n",
       "      <th>10</th>\n",
       "      <td>2.0</td>\n",
       "      <td>2.0</td>\n",
       "      <td>0.013825</td>\n",
       "      <td>0.050847</td>\n",
       "    </tr>\n",
       "    <tr>\n",
       "      <th>100</th>\n",
       "      <td>0.0</td>\n",
       "      <td>3.0</td>\n",
       "      <td>0.018433</td>\n",
       "      <td>0.016949</td>\n",
       "    </tr>\n",
       "  </tbody>\n",
       "</table>\n",
       "</div>"
      ],
      "text/plain": [
       "        class_1_total  class_2_total  class_2_percent  class_1_percent\n",
       "tokens                                                                \n",
       "00                5.0            0.0         0.004608         0.101695\n",
       "00pm              0.0            3.0         0.018433         0.016949\n",
       "03                0.0            1.0         0.009217         0.016949\n",
       "10                2.0            2.0         0.013825         0.050847\n",
       "100               0.0            3.0         0.018433         0.016949"
      ]
     },
     "execution_count": 140,
     "metadata": {},
     "output_type": "execute_result"
    }
   ],
   "source": [
    "#Apply the function to each column and return a new column.\n",
    "\n",
    "token_df['class_2_percent'] = token_df['class_2_total'].apply(add_one) / total_class_2\n",
    "token_df['class_1_percent'] = token_df['class_1_total'].apply(add_one) / total_class_1\n",
    "token_df.head()"
   ]
  },
  {
   "cell_type": "code",
   "execution_count": 141,
   "metadata": {
    "collapsed": false
   },
   "outputs": [
    {
     "data": {
      "text/html": [
       "<div>\n",
       "<table border=\"1\" class=\"dataframe\">\n",
       "  <thead>\n",
       "    <tr style=\"text-align: right;\">\n",
       "      <th></th>\n",
       "      <th>class_1_total</th>\n",
       "      <th>class_2_total</th>\n",
       "      <th>class_2_percent</th>\n",
       "      <th>class_1_percent</th>\n",
       "      <th>ratio</th>\n",
       "    </tr>\n",
       "    <tr>\n",
       "      <th>tokens</th>\n",
       "      <th></th>\n",
       "      <th></th>\n",
       "      <th></th>\n",
       "      <th></th>\n",
       "      <th></th>\n",
       "    </tr>\n",
       "  </thead>\n",
       "  <tbody>\n",
       "    <tr>\n",
       "      <th>00</th>\n",
       "      <td>5.0</td>\n",
       "      <td>0.0</td>\n",
       "      <td>0.004608</td>\n",
       "      <td>0.101695</td>\n",
       "      <td>0.045315</td>\n",
       "    </tr>\n",
       "    <tr>\n",
       "      <th>00pm</th>\n",
       "      <td>0.0</td>\n",
       "      <td>3.0</td>\n",
       "      <td>0.018433</td>\n",
       "      <td>0.016949</td>\n",
       "      <td>1.087558</td>\n",
       "    </tr>\n",
       "    <tr>\n",
       "      <th>03</th>\n",
       "      <td>0.0</td>\n",
       "      <td>1.0</td>\n",
       "      <td>0.009217</td>\n",
       "      <td>0.016949</td>\n",
       "      <td>0.543779</td>\n",
       "    </tr>\n",
       "    <tr>\n",
       "      <th>10</th>\n",
       "      <td>2.0</td>\n",
       "      <td>2.0</td>\n",
       "      <td>0.013825</td>\n",
       "      <td>0.050847</td>\n",
       "      <td>0.271889</td>\n",
       "    </tr>\n",
       "    <tr>\n",
       "      <th>100</th>\n",
       "      <td>0.0</td>\n",
       "      <td>3.0</td>\n",
       "      <td>0.018433</td>\n",
       "      <td>0.016949</td>\n",
       "      <td>1.087558</td>\n",
       "    </tr>\n",
       "  </tbody>\n",
       "</table>\n",
       "</div>"
      ],
      "text/plain": [
       "        class_1_total  class_2_total  class_2_percent  class_1_percent  \\\n",
       "tokens                                                                   \n",
       "00                5.0            0.0         0.004608         0.101695   \n",
       "00pm              0.0            3.0         0.018433         0.016949   \n",
       "03                0.0            1.0         0.009217         0.016949   \n",
       "10                2.0            2.0         0.013825         0.050847   \n",
       "100               0.0            3.0         0.018433         0.016949   \n",
       "\n",
       "           ratio  \n",
       "tokens            \n",
       "00      0.045315  \n",
       "00pm    1.087558  \n",
       "03      0.543779  \n",
       "10      0.271889  \n",
       "100     1.087558  "
      ]
     },
     "execution_count": 141,
     "metadata": {},
     "output_type": "execute_result"
    }
   ],
   "source": [
    "#Calculation three star ratio.\n",
    "#A three star ratio is the likely hood that a token will contribute to a review that has more than three stars.\n",
    "#Larger ratio means that the review will be more than three stars\n",
    "#Smaller ratio means that the review will be three\n",
    "\n",
    "token_df['ratio'] = token_df['class_2_percent'] / token_df['class_1_percent']\n",
    "token_df.head()"
   ]
  },
  {
   "cell_type": "code",
   "execution_count": 142,
   "metadata": {
    "collapsed": false
   },
   "outputs": [
    {
     "name": "stderr",
     "output_type": "stream",
     "text": [
      "//anaconda/lib/python3.5/site-packages/ipykernel/__main__.py:4: FutureWarning: sort(columns=....) is deprecated, use sort_values(by=.....)\n"
     ]
    },
    {
     "data": {
      "text/html": [
       "<div>\n",
       "<table border=\"1\" class=\"dataframe\">\n",
       "  <thead>\n",
       "    <tr style=\"text-align: right;\">\n",
       "      <th></th>\n",
       "      <th>class_1_total</th>\n",
       "      <th>class_2_total</th>\n",
       "      <th>class_2_percent</th>\n",
       "      <th>class_1_percent</th>\n",
       "      <th>ratio</th>\n",
       "    </tr>\n",
       "    <tr>\n",
       "      <th>tokens</th>\n",
       "      <th></th>\n",
       "      <th></th>\n",
       "      <th></th>\n",
       "      <th></th>\n",
       "      <th></th>\n",
       "    </tr>\n",
       "  </thead>\n",
       "  <tbody>\n",
       "    <tr>\n",
       "      <th>perfect</th>\n",
       "      <td>0.0</td>\n",
       "      <td>24.0</td>\n",
       "      <td>0.115207</td>\n",
       "      <td>0.016949</td>\n",
       "      <td>6.797235</td>\n",
       "    </tr>\n",
       "    <tr>\n",
       "      <th>look</th>\n",
       "      <td>0.0</td>\n",
       "      <td>17.0</td>\n",
       "      <td>0.082949</td>\n",
       "      <td>0.016949</td>\n",
       "      <td>4.894009</td>\n",
       "    </tr>\n",
       "    <tr>\n",
       "      <th>studying</th>\n",
       "      <td>0.0</td>\n",
       "      <td>16.0</td>\n",
       "      <td>0.078341</td>\n",
       "      <td>0.016949</td>\n",
       "      <td>4.622120</td>\n",
       "    </tr>\n",
       "    <tr>\n",
       "      <th>recommend</th>\n",
       "      <td>0.0</td>\n",
       "      <td>15.0</td>\n",
       "      <td>0.073733</td>\n",
       "      <td>0.016949</td>\n",
       "      <td>4.350230</td>\n",
       "    </tr>\n",
       "    <tr>\n",
       "      <th>mocha</th>\n",
       "      <td>0.0</td>\n",
       "      <td>15.0</td>\n",
       "      <td>0.073733</td>\n",
       "      <td>0.016949</td>\n",
       "      <td>4.350230</td>\n",
       "    </tr>\n",
       "    <tr>\n",
       "      <th>loved</th>\n",
       "      <td>0.0</td>\n",
       "      <td>15.0</td>\n",
       "      <td>0.073733</td>\n",
       "      <td>0.016949</td>\n",
       "      <td>4.350230</td>\n",
       "    </tr>\n",
       "    <tr>\n",
       "      <th>butter</th>\n",
       "      <td>0.0</td>\n",
       "      <td>14.0</td>\n",
       "      <td>0.069124</td>\n",
       "      <td>0.016949</td>\n",
       "      <td>4.078341</td>\n",
       "    </tr>\n",
       "    <tr>\n",
       "      <th>peanut</th>\n",
       "      <td>0.0</td>\n",
       "      <td>13.0</td>\n",
       "      <td>0.064516</td>\n",
       "      <td>0.016949</td>\n",
       "      <td>3.806452</td>\n",
       "    </tr>\n",
       "    <tr>\n",
       "      <th>friendly</th>\n",
       "      <td>4.0</td>\n",
       "      <td>64.0</td>\n",
       "      <td>0.299539</td>\n",
       "      <td>0.084746</td>\n",
       "      <td>3.534562</td>\n",
       "    </tr>\n",
       "    <tr>\n",
       "      <th>variety</th>\n",
       "      <td>0.0</td>\n",
       "      <td>12.0</td>\n",
       "      <td>0.059908</td>\n",
       "      <td>0.016949</td>\n",
       "      <td>3.534562</td>\n",
       "    </tr>\n",
       "  </tbody>\n",
       "</table>\n",
       "</div>"
      ],
      "text/plain": [
       "           class_1_total  class_2_total  class_2_percent  class_1_percent  \\\n",
       "tokens                                                                      \n",
       "perfect              0.0           24.0         0.115207         0.016949   \n",
       "look                 0.0           17.0         0.082949         0.016949   \n",
       "studying             0.0           16.0         0.078341         0.016949   \n",
       "recommend            0.0           15.0         0.073733         0.016949   \n",
       "mocha                0.0           15.0         0.073733         0.016949   \n",
       "loved                0.0           15.0         0.073733         0.016949   \n",
       "butter               0.0           14.0         0.069124         0.016949   \n",
       "peanut               0.0           13.0         0.064516         0.016949   \n",
       "friendly             4.0           64.0         0.299539         0.084746   \n",
       "variety              0.0           12.0         0.059908         0.016949   \n",
       "\n",
       "              ratio  \n",
       "tokens               \n",
       "perfect    6.797235  \n",
       "look       4.894009  \n",
       "studying   4.622120  \n",
       "recommend  4.350230  \n",
       "mocha      4.350230  \n",
       "loved      4.350230  \n",
       "butter     4.078341  \n",
       "peanut     3.806452  \n",
       "friendly   3.534562  \n",
       "variety    3.534562  "
      ]
     },
     "execution_count": 142,
     "metadata": {},
     "output_type": "execute_result"
    }
   ],
   "source": [
    "#Sort the dataframe by thre three-star ratio display the tokens that most \n",
    "#contribute to a review that has more than three stars\n",
    "\n",
    "token_df.sort(columns='ratio', ascending=False).head(10)"
   ]
  },
  {
   "cell_type": "code",
   "execution_count": 113,
   "metadata": {
    "collapsed": false
   },
   "outputs": [
    {
     "name": "stderr",
     "output_type": "stream",
     "text": [
      "//anaconda/lib/python3.5/site-packages/ipykernel/__main__.py:4: FutureWarning: sort(columns=....) is deprecated, use sort_values(by=.....)\n"
     ]
    },
    {
     "data": {
      "text/html": [
       "<div>\n",
       "<table border=\"1\" class=\"dataframe\">\n",
       "  <thead>\n",
       "    <tr style=\"text-align: right;\">\n",
       "      <th></th>\n",
       "      <th>class_1_total</th>\n",
       "      <th>class_2_total</th>\n",
       "      <th>class_2_percent</th>\n",
       "      <th>class_1_percent</th>\n",
       "      <th>ratio</th>\n",
       "    </tr>\n",
       "    <tr>\n",
       "      <th>tokens</th>\n",
       "      <th></th>\n",
       "      <th></th>\n",
       "      <th></th>\n",
       "      <th></th>\n",
       "      <th></th>\n",
       "    </tr>\n",
       "  </thead>\n",
       "  <tbody>\n",
       "    <tr>\n",
       "      <th>00</th>\n",
       "      <td>5.0</td>\n",
       "      <td>0.0</td>\n",
       "      <td>0.004608</td>\n",
       "      <td>0.101695</td>\n",
       "      <td>0.045315</td>\n",
       "    </tr>\n",
       "    <tr>\n",
       "      <th>average</th>\n",
       "      <td>5.0</td>\n",
       "      <td>0.0</td>\n",
       "      <td>0.004608</td>\n",
       "      <td>0.101695</td>\n",
       "      <td>0.045315</td>\n",
       "    </tr>\n",
       "    <tr>\n",
       "      <th>basically</th>\n",
       "      <td>4.0</td>\n",
       "      <td>0.0</td>\n",
       "      <td>0.004608</td>\n",
       "      <td>0.084746</td>\n",
       "      <td>0.054378</td>\n",
       "    </tr>\n",
       "    <tr>\n",
       "      <th>concept</th>\n",
       "      <td>4.0</td>\n",
       "      <td>0.0</td>\n",
       "      <td>0.004608</td>\n",
       "      <td>0.084746</td>\n",
       "      <td>0.054378</td>\n",
       "    </tr>\n",
       "    <tr>\n",
       "      <th>weird</th>\n",
       "      <td>8.0</td>\n",
       "      <td>1.0</td>\n",
       "      <td>0.009217</td>\n",
       "      <td>0.152542</td>\n",
       "      <td>0.060420</td>\n",
       "    </tr>\n",
       "    <tr>\n",
       "      <th>against</th>\n",
       "      <td>3.0</td>\n",
       "      <td>0.0</td>\n",
       "      <td>0.004608</td>\n",
       "      <td>0.067797</td>\n",
       "      <td>0.067972</td>\n",
       "    </tr>\n",
       "    <tr>\n",
       "      <th>watery</th>\n",
       "      <td>3.0</td>\n",
       "      <td>0.0</td>\n",
       "      <td>0.004608</td>\n",
       "      <td>0.067797</td>\n",
       "      <td>0.067972</td>\n",
       "    </tr>\n",
       "    <tr>\n",
       "      <th>reg</th>\n",
       "      <td>3.0</td>\n",
       "      <td>0.0</td>\n",
       "      <td>0.004608</td>\n",
       "      <td>0.067797</td>\n",
       "      <td>0.067972</td>\n",
       "    </tr>\n",
       "    <tr>\n",
       "      <th>tortilla</th>\n",
       "      <td>3.0</td>\n",
       "      <td>0.0</td>\n",
       "      <td>0.004608</td>\n",
       "      <td>0.067797</td>\n",
       "      <td>0.067972</td>\n",
       "    </tr>\n",
       "    <tr>\n",
       "      <th>homemade</th>\n",
       "      <td>3.0</td>\n",
       "      <td>0.0</td>\n",
       "      <td>0.004608</td>\n",
       "      <td>0.067797</td>\n",
       "      <td>0.067972</td>\n",
       "    </tr>\n",
       "  </tbody>\n",
       "</table>\n",
       "</div>"
      ],
      "text/plain": [
       "           class_1_total  class_2_total  class_2_percent  class_1_percent  \\\n",
       "tokens                                                                      \n",
       "00                   5.0            0.0         0.004608         0.101695   \n",
       "average              5.0            0.0         0.004608         0.101695   \n",
       "basically            4.0            0.0         0.004608         0.084746   \n",
       "concept              4.0            0.0         0.004608         0.084746   \n",
       "weird                8.0            1.0         0.009217         0.152542   \n",
       "against              3.0            0.0         0.004608         0.067797   \n",
       "watery               3.0            0.0         0.004608         0.067797   \n",
       "reg                  3.0            0.0         0.004608         0.067797   \n",
       "tortilla             3.0            0.0         0.004608         0.067797   \n",
       "homemade             3.0            0.0         0.004608         0.067797   \n",
       "\n",
       "              ratio  \n",
       "tokens               \n",
       "00         0.045315  \n",
       "average    0.045315  \n",
       "basically  0.054378  \n",
       "concept    0.054378  \n",
       "weird      0.060420  \n",
       "against    0.067972  \n",
       "watery     0.067972  \n",
       "reg        0.067972  \n",
       "tortilla   0.067972  \n",
       "homemade   0.067972  "
      ]
     },
     "execution_count": 113,
     "metadata": {},
     "output_type": "execute_result"
    }
   ],
   "source": [
    "#Sort the dataframe by thre three-star ratio display the tokens that most \n",
    "#contribute to a review that has three or fewer stars.\n",
    "\n",
    "token_df.sort(columns='ratio', ascending=True).head(10)"
   ]
  },
  {
   "cell_type": "code",
   "execution_count": null,
   "metadata": {
    "collapsed": true
   },
   "outputs": [],
   "source": []
  }
 ],
 "metadata": {
  "anaconda-cloud": {},
  "kernelspec": {
   "display_name": "Python [conda root]",
   "language": "python",
   "name": "conda-root-py"
  },
  "language_info": {
   "codemirror_mode": {
    "name": "ipython",
    "version": 3
   },
   "file_extension": ".py",
   "mimetype": "text/x-python",
   "name": "python",
   "nbconvert_exporter": "python",
   "pygments_lexer": "ipython3",
   "version": "3.5.2"
  }
 },
 "nbformat": 4,
 "nbformat_minor": 0
}
